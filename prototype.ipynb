{
 "cells": [
  {
   "cell_type": "code",
   "execution_count": 2,
   "metadata": {},
   "outputs": [],
   "source": [
    "from qmr_exchange import Exchange"
   ]
  },
  {
   "cell_type": "code",
   "execution_count": 3,
   "metadata": {},
   "outputs": [],
   "source": [
    "# Create a new exchange instance with a few assets\n",
    "e = Exchange()\n",
    "e.create_asset('ASSET1')\n",
    "e.create_asset('ASSET2')"
   ]
  },
  {
   "cell_type": "code",
   "execution_count": 4,
   "metadata": {},
   "outputs": [
    {
     "data": {
      "text/plain": [
       "{'bids':    ticker  price  qty    creator                         dt\n",
       " 0  ASSET1   99.0    1  init_seed 2022-09-13 14:48:09.997909,\n",
       " 'asks':    ticker  price  qty    creator                         dt\n",
       " 0  ASSET1  101.0    1  init_seed 2022-09-13 14:48:09.997909}"
      ]
     },
     "execution_count": 4,
     "metadata": {},
     "output_type": "execute_result"
    }
   ],
   "source": [
    "\n",
    "# get the current state of the order book (instantiation creates a buy and sell order)\n",
    "ob = e.get_order_book('ASSET1')\n",
    "ob.df"
   ]
  },
  {
   "cell_type": "code",
   "execution_count": 5,
   "metadata": {},
   "outputs": [
    {
     "data": {
      "text/plain": [
       "{'bids': Empty DataFrame\n",
       " Columns: []\n",
       " Index: [],\n",
       " 'asks':    ticker  price  qty    creator                         dt\n",
       " 0  ASSET1   98.0    2     martin 2022-09-13 14:48:12.032687\n",
       " 1  ASSET1  101.0    1  init_seed 2022-09-13 14:48:09.997909}"
      ]
     },
     "execution_count": 5,
     "metadata": {},
     "output_type": "execute_result"
    }
   ],
   "source": [
    "# LIMIT SELL ORDER HAS A HIGER PRICE THAN THE BEST BID, SO WE AUTOMATICALLY SELL THE MAX POSSIBLE AMOUNT\n",
    "# AND ONLY CREATE A LIMIT ORDER FOR THE REMAINING QUANTITY\n",
    "e.limit_sell('ASSET1', 98, 3, 'martin')\n",
    "ob = e.get_order_book('ASSET1')\n",
    "ob.df\n"
   ]
  },
  {
   "cell_type": "code",
   "execution_count": 6,
   "metadata": {},
   "outputs": [
    {
     "data": {
      "text/plain": [
       "<Trade: ASSET1 1@99.0 2022-09-13 14:48:12.032687>"
      ]
     },
     "execution_count": 6,
     "metadata": {},
     "output_type": "execute_result"
    }
   ],
   "source": [
    "e.get_latest_trade('ASSET1')"
   ]
  },
  {
   "cell_type": "code",
   "execution_count": 8,
   "metadata": {},
   "outputs": [
    {
     "name": "stderr",
     "output_type": "stream",
     "text": [
      "100%|██████████| 10000/10000 [00:15<00:00, 645.87it/s]\n"
     ]
    }
   ],
   "source": [
    "import random\n",
    "from tqdm import tqdm\n",
    "import time\n",
    "from qmr_exchange import Exchange\n",
    "e = Exchange()\n",
    "e.create_asset('AAPL')\n",
    "for i in tqdm(range(10000),miniters=10):\n",
    "    e.limit_sell('AAPL',e.get_latest_trade('AAPL').price + random.uniform(0, 1),1,creator='market_maker')\n",
    "    e.limit_buy('AAPL',e.get_latest_trade('AAPL').price - random.uniform(0, 1),1,creator='market_maker')\n",
    "    \n",
    "    if random.choice([True, False]):\n",
    "        e.market_buy('AAPL',1,'taker')\n",
    "    else:\n",
    "        e.market_sell('AAPL',1,'taker')\n",
    "    # time.sleep(.0001)"
   ]
  },
  {
   "cell_type": "code",
   "execution_count": 10,
   "metadata": {},
   "outputs": [],
   "source": [
    "trades = e.get_trades('AAPL')"
   ]
  },
  {
   "cell_type": "code",
   "execution_count": 14,
   "metadata": {},
   "outputs": [
    {
     "data": {
      "text/plain": [
       "<matplotlib.axes._subplots.AxesSubplot at 0x2396a7db7f0>"
      ]
     },
     "execution_count": 14,
     "metadata": {},
     "output_type": "execute_result"
    },
    {
     "data": {
      "image/png": "[encoded data removed]",
      "text/plain": [
       "<Figure size 432x288 with 1 Axes>"
      ]
     },
     "metadata": {
      "needs_background": "light"
     },
     "output_type": "display_data"
    }
   ],
   "source": [
    "resample_LTP = trades['price'].resample('10ms').ohlc(_method='ohlc')\n",
    "resample_LTP['close'].plot()\n"
   ]
  },
  {
   "cell_type": "code",
   "execution_count": 13,
   "metadata": {},
   "outputs": [
    {
     "data": {
      "text/html": [
       "<div>\n",
       "<style scoped>\n",
       "    .dataframe tbody tr th:only-of-type {\n",
       "        vertical-align: middle;\n",
       "    }\n",
       "\n",
       "    .dataframe tbody tr th {\n",
       "        vertical-align: top;\n",
       "    }\n",
       "\n",
       "    .dataframe thead th {\n",
       "        text-align: right;\n",
       "    }\n",
       "</style>\n",
       "<table border=\"1\" class=\"dataframe\">\n",
       "  <thead>\n",
       "    <tr style=\"text-align: right;\">\n",
       "      <th></th>\n",
       "      <th>ticker</th>\n",
       "      <th>price</th>\n",
       "      <th>qty</th>\n",
       "      <th>creator</th>\n",
       "      <th>dt</th>\n",
       "    </tr>\n",
       "  </thead>\n",
       "  <tbody>\n",
       "    <tr>\n",
       "      <th>0</th>\n",
       "      <td>AAPL</td>\n",
       "      <td>100.136789</td>\n",
       "      <td>1</td>\n",
       "      <td>market_maker</td>\n",
       "      <td>2022-09-10 19:22:00.017433</td>\n",
       "    </tr>\n",
       "    <tr>\n",
       "      <th>1</th>\n",
       "      <td>AAPL</td>\n",
       "      <td>100.135171</td>\n",
       "      <td>1</td>\n",
       "      <td>market_maker</td>\n",
       "      <td>2022-09-10 19:22:00.032433</td>\n",
       "    </tr>\n",
       "    <tr>\n",
       "      <th>2</th>\n",
       "      <td>AAPL</td>\n",
       "      <td>100.132659</td>\n",
       "      <td>1</td>\n",
       "      <td>market_maker</td>\n",
       "      <td>2022-09-10 19:21:59.720658</td>\n",
       "    </tr>\n",
       "    <tr>\n",
       "      <th>3</th>\n",
       "      <td>AAPL</td>\n",
       "      <td>100.084862</td>\n",
       "      <td>1</td>\n",
       "      <td>market_maker</td>\n",
       "      <td>2022-09-10 19:21:59.859723</td>\n",
       "    </tr>\n",
       "    <tr>\n",
       "      <th>4</th>\n",
       "      <td>AAPL</td>\n",
       "      <td>100.060811</td>\n",
       "      <td>1</td>\n",
       "      <td>market_maker</td>\n",
       "      <td>2022-09-10 19:21:59.672609</td>\n",
       "    </tr>\n",
       "    <tr>\n",
       "      <th>...</th>\n",
       "      <td>...</td>\n",
       "      <td>...</td>\n",
       "      <td>...</td>\n",
       "      <td>...</td>\n",
       "      <td>...</td>\n",
       "    </tr>\n",
       "    <tr>\n",
       "      <th>771</th>\n",
       "      <td>AAPL</td>\n",
       "      <td>98.694220</td>\n",
       "      <td>1</td>\n",
       "      <td>market_maker</td>\n",
       "      <td>2022-09-10 19:21:41.597162</td>\n",
       "    </tr>\n",
       "    <tr>\n",
       "      <th>772</th>\n",
       "      <td>AAPL</td>\n",
       "      <td>98.687556</td>\n",
       "      <td>1</td>\n",
       "      <td>market_maker</td>\n",
       "      <td>2022-09-10 19:21:38.681632</td>\n",
       "    </tr>\n",
       "    <tr>\n",
       "      <th>773</th>\n",
       "      <td>AAPL</td>\n",
       "      <td>98.653772</td>\n",
       "      <td>1</td>\n",
       "      <td>market_maker</td>\n",
       "      <td>2022-09-10 19:21:39.358780</td>\n",
       "    </tr>\n",
       "    <tr>\n",
       "      <th>774</th>\n",
       "      <td>AAPL</td>\n",
       "      <td>98.617239</td>\n",
       "      <td>1</td>\n",
       "      <td>market_maker</td>\n",
       "      <td>2022-09-10 19:21:38.696629</td>\n",
       "    </tr>\n",
       "    <tr>\n",
       "      <th>775</th>\n",
       "      <td>AAPL</td>\n",
       "      <td>98.599505</td>\n",
       "      <td>1</td>\n",
       "      <td>market_maker</td>\n",
       "      <td>2022-09-10 19:21:39.390779</td>\n",
       "    </tr>\n",
       "  </tbody>\n",
       "</table>\n",
       "<p>776 rows × 5 columns</p>\n",
       "</div>"
      ],
      "text/plain": [
       "    ticker       price  qty       creator                         dt\n",
       "0     AAPL  100.136789    1  market_maker 2022-09-10 19:22:00.017433\n",
       "1     AAPL  100.135171    1  market_maker 2022-09-10 19:22:00.032433\n",
       "2     AAPL  100.132659    1  market_maker 2022-09-10 19:21:59.720658\n",
       "3     AAPL  100.084862    1  market_maker 2022-09-10 19:21:59.859723\n",
       "4     AAPL  100.060811    1  market_maker 2022-09-10 19:21:59.672609\n",
       "..     ...         ...  ...           ...                        ...\n",
       "771   AAPL   98.694220    1  market_maker 2022-09-10 19:21:41.597162\n",
       "772   AAPL   98.687556    1  market_maker 2022-09-10 19:21:38.681632\n",
       "773   AAPL   98.653772    1  market_maker 2022-09-10 19:21:39.358780\n",
       "774   AAPL   98.617239    1  market_maker 2022-09-10 19:21:38.696629\n",
       "775   AAPL   98.599505    1  market_maker 2022-09-10 19:21:39.390779\n",
       "\n",
       "[776 rows x 5 columns]"
      ]
     },
     "execution_count": 13,
     "metadata": {},
     "output_type": "execute_result"
    }
   ],
   "source": [
    "e.get_order_book('AAPL').df['bids']"
   ]
  },
  {
   "cell_type": "code",
   "execution_count": 14,
   "metadata": {},
   "outputs": [
    {
     "data": {
      "text/html": [
       "<div>\n",
       "<style scoped>\n",
       "    .dataframe tbody tr th:only-of-type {\n",
       "        vertical-align: middle;\n",
       "    }\n",
       "\n",
       "    .dataframe tbody tr th {\n",
       "        vertical-align: top;\n",
       "    }\n",
       "\n",
       "    .dataframe thead th {\n",
       "        text-align: right;\n",
       "    }\n",
       "</style>\n",
       "<table border=\"1\" class=\"dataframe\">\n",
       "  <thead>\n",
       "    <tr style=\"text-align: right;\">\n",
       "      <th></th>\n",
       "      <th>ticker</th>\n",
       "      <th>price</th>\n",
       "      <th>qty</th>\n",
       "      <th>creator</th>\n",
       "      <th>dt</th>\n",
       "    </tr>\n",
       "  </thead>\n",
       "  <tbody>\n",
       "    <tr>\n",
       "      <th>0</th>\n",
       "      <td>AAPL</td>\n",
       "      <td>100.762353</td>\n",
       "      <td>1</td>\n",
       "      <td>market_maker</td>\n",
       "      <td>2022-09-10 19:22:00.094252</td>\n",
       "    </tr>\n",
       "    <tr>\n",
       "      <th>1</th>\n",
       "      <td>AAPL</td>\n",
       "      <td>100.783148</td>\n",
       "      <td>1</td>\n",
       "      <td>market_maker</td>\n",
       "      <td>2022-09-10 19:22:00.124253</td>\n",
       "    </tr>\n",
       "    <tr>\n",
       "      <th>2</th>\n",
       "      <td>AAPL</td>\n",
       "      <td>100.833589</td>\n",
       "      <td>1</td>\n",
       "      <td>market_maker</td>\n",
       "      <td>2022-09-10 19:21:59.797193</td>\n",
       "    </tr>\n",
       "    <tr>\n",
       "      <th>3</th>\n",
       "      <td>AAPL</td>\n",
       "      <td>100.841696</td>\n",
       "      <td>1</td>\n",
       "      <td>market_maker</td>\n",
       "      <td>2022-09-10 19:21:37.443080</td>\n",
       "    </tr>\n",
       "    <tr>\n",
       "      <th>4</th>\n",
       "      <td>AAPL</td>\n",
       "      <td>100.843781</td>\n",
       "      <td>1</td>\n",
       "      <td>market_maker</td>\n",
       "      <td>2022-09-10 19:21:52.400613</td>\n",
       "    </tr>\n",
       "    <tr>\n",
       "      <th>...</th>\n",
       "      <td>...</td>\n",
       "      <td>...</td>\n",
       "      <td>...</td>\n",
       "      <td>...</td>\n",
       "      <td>...</td>\n",
       "    </tr>\n",
       "    <tr>\n",
       "      <th>734</th>\n",
       "      <td>AAPL</td>\n",
       "      <td>101.782526</td>\n",
       "      <td>1</td>\n",
       "      <td>market_maker</td>\n",
       "      <td>2022-09-10 19:21:59.891769</td>\n",
       "    </tr>\n",
       "    <tr>\n",
       "      <th>735</th>\n",
       "      <td>AAPL</td>\n",
       "      <td>101.793222</td>\n",
       "      <td>1</td>\n",
       "      <td>market_maker</td>\n",
       "      <td>2022-09-10 19:21:57.086389</td>\n",
       "    </tr>\n",
       "    <tr>\n",
       "      <th>736</th>\n",
       "      <td>AAPL</td>\n",
       "      <td>101.794840</td>\n",
       "      <td>1</td>\n",
       "      <td>market_maker</td>\n",
       "      <td>2022-09-10 19:21:36.508244</td>\n",
       "    </tr>\n",
       "    <tr>\n",
       "      <th>737</th>\n",
       "      <td>AAPL</td>\n",
       "      <td>101.821291</td>\n",
       "      <td>1</td>\n",
       "      <td>market_maker</td>\n",
       "      <td>2022-09-10 19:21:57.650922</td>\n",
       "    </tr>\n",
       "    <tr>\n",
       "      <th>738</th>\n",
       "      <td>AAPL</td>\n",
       "      <td>101.992368</td>\n",
       "      <td>1</td>\n",
       "      <td>market_maker</td>\n",
       "      <td>2022-09-10 19:21:36.445244</td>\n",
       "    </tr>\n",
       "  </tbody>\n",
       "</table>\n",
       "<p>739 rows × 5 columns</p>\n",
       "</div>"
      ],
      "text/plain": [
       "    ticker       price  qty       creator                         dt\n",
       "0     AAPL  100.762353    1  market_maker 2022-09-10 19:22:00.094252\n",
       "1     AAPL  100.783148    1  market_maker 2022-09-10 19:22:00.124253\n",
       "2     AAPL  100.833589    1  market_maker 2022-09-10 19:21:59.797193\n",
       "3     AAPL  100.841696    1  market_maker 2022-09-10 19:21:37.443080\n",
       "4     AAPL  100.843781    1  market_maker 2022-09-10 19:21:52.400613\n",
       "..     ...         ...  ...           ...                        ...\n",
       "734   AAPL  101.782526    1  market_maker 2022-09-10 19:21:59.891769\n",
       "735   AAPL  101.793222    1  market_maker 2022-09-10 19:21:57.086389\n",
       "736   AAPL  101.794840    1  market_maker 2022-09-10 19:21:36.508244\n",
       "737   AAPL  101.821291    1  market_maker 2022-09-10 19:21:57.650922\n",
       "738   AAPL  101.992368    1  market_maker 2022-09-10 19:21:36.445244\n",
       "\n",
       "[739 rows x 5 columns]"
      ]
     },
     "execution_count": 14,
     "metadata": {},
     "output_type": "execute_result"
    }
   ],
   "source": [
    "e.get_order_book('AAPL').df['asks']"
   ]
  },
  {
   "cell_type": "code",
   "execution_count": null,
   "metadata": {},
   "outputs": [],
   "source": []
  }
 ],
 "metadata": {
  "kernelspec": {
   "display_name": "Python 3.9.12 ('trader')",
   "language": "python",
   "name": "python3"
  },
  "language_info": {
   "codemirror_mode": {
    "name": "ipython",
    "version": 3
   },
   "file_extension": ".py",
   "mimetype": "text/x-python",
   "name": "python",
   "nbconvert_exporter": "python",
   "pygments_lexer": "ipython3",
   "version": "3.9.12"
  },
  "orig_nbformat": 4,
  "vscode": {
   "interpreter": {
    "hash": "b7ee2c8dc09aabd4386d664219f9f1f879c3c7a6a19655566f635d6a0814017c"
   }
  }
 },
 "nbformat": 4,
 "nbformat_minor": 2
}
